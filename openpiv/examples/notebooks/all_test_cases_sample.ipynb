{
 "cells": [
  {
   "cell_type": "markdown",
   "metadata": {},
   "source": [
    "## OpenPIV tutorial of all test cases"
   ]
  },
  {
   "cell_type": "code",
   "execution_count": null,
   "metadata": {},
   "outputs": [],
   "source": [
    "from openpiv import tools, pyprocess, scaling, validation, filters\n",
    "import numpy as np\n",
    "import glob\n",
    "%matplotlib inline"
   ]
  },
  {
   "cell_type": "code",
   "execution_count": null,
   "metadata": {},
   "outputs": [],
   "source": [
    "%load_ext watermark\n",
    "%watermark -v -m -p numpy,openpiv -g -b"
   ]
  },
  {
   "cell_type": "code",
   "execution_count": null,
   "metadata": {},
   "outputs": [],
   "source": [
    "# set of typical parameters\n",
    "window_size = 32  # pixels 32 x 32 pixels interrogation window, in frame A.\n",
    "overlap = 16  # overlap is 8 pixels, i.e. 25% of the window\n",
    "search_size = 32  # pixels 64 x 64 in frame B, avoids some peak locking for \n",
    "                  # large displacements"
   ]
  },
  {
   "cell_type": "code",
   "execution_count": null,
   "metadata": {},
   "outputs": [],
   "source": [
    "def openpiv_default_run(im1,im2):\n",
    "    \"\"\" default settings for OpenPIV analysis using\n",
    "    extended_search_area_piv algorithm for two images\n",
    "    \n",
    "    Inputs:\n",
    "        im1,im2 : str,str = path of two image\n",
    "    \"\"\"\n",
    "    frame_a  = tools.imread(im1)\n",
    "    frame_b  = tools.imread(im2)\n",
    "\n",
    "    u, v, sig2noise = pyprocess.extended_search_area_piv(frame_a.astype(np.int32), \n",
    "                                                       frame_b.astype(np.int32), \n",
    "                                                       window_size=window_size, \n",
    "                                                       overlap=overlap, \n",
    "                                                       dt=1, \n",
    "                                                       search_area_size=search_size, \n",
    "                                                       sig2noise_method='peak2mean',\n",
    "                                                       correlation_method='linear',\n",
    "                                                       normalized_correlation=False)\n",
    "    x, y = pyprocess.get_coordinates(frame_a.shape, \n",
    "                                     search_size, \n",
    "                                     overlap)\n",
    "    u, v, mask = validation.sig2noise_val(u, v, sig2noise, threshold = 2.1)\n",
    "    u, v = filters.replace_outliers( u, v, method='localmean', \n",
    "                                    max_iter=3, kernel_size=3)\n",
    "    x, y, u, v = scaling.uniform(x, y, u, v, scaling_factor = 1. )\n",
    "    tools.save(x, y, u, v, sig2noise, mask, list_of_images[0]+'.txt' )\n",
    "    fig,ax = tools.display_vector_field(list_of_images[0]+'.txt', \n",
    "                                        on_img=True,image_name=list_of_images[0],\n",
    "                                        scaling_factor=1.,\n",
    "                                        ax=None)"
   ]
  },
  {
   "cell_type": "code",
   "execution_count": null,
   "metadata": {
    "lines_to_next_cell": 2
   },
   "outputs": [],
   "source": [
    "alist_filter = ['jpg','bmp','png','tif','tiff']\n",
    "\n",
    "\n",
    "# all test cases in /openpiv/examples/\n",
    "list_of_tests = glob.glob('../test*')\n",
    "list_of_tests.sort()\n",
    "\n",
    "list_of_images = []\n",
    "for test in list_of_tests:\n",
    "    \n",
    "    list_of_files = glob.glob(test+'/*.*')\n",
    "    list_of_files.sort()\n",
    "    list_of_images = [f for f in list_of_files if f[-3:] in alist_filter]\n",
    "    \n",
    "    openpiv_default_run(list_of_images[0],list_of_images[1])"
   ]
  },
  {
   "cell_type": "code",
   "execution_count": null,
   "metadata": {},
   "outputs": [],
   "source": [
    "list_of_tests"
   ]
  },
  {
   "cell_type": "code",
   "execution_count": null,
   "metadata": {},
   "outputs": [],
   "source": []
  }
 ],
 "metadata": {
  "anaconda-cloud": {},
  "jupytext": {
   "formats": "ipynb,py:percent"
  },
  "kernelspec": {
   "display_name": "Python [conda env:openpiv] *",
   "language": "python",
   "name": "conda-env-openpiv-py"
  },
  "language_info": {
   "codemirror_mode": {
    "name": "ipython",
    "version": 3
   },
   "file_extension": ".py",
   "mimetype": "text/x-python",
   "name": "python",
   "nbconvert_exporter": "python",
   "pygments_lexer": "ipython3",
   "version": "3.8.5"
  }
 },
 "nbformat": 4,
 "nbformat_minor": 4
}
