{
 "cells": [
  {
   "cell_type": "code",
   "execution_count": 1,
   "metadata": {},
   "outputs": [],
   "source": [
    "# compare the two find_subpixel_positions, from \n",
    "# windef and pyprocess"
   ]
  },
  {
   "cell_type": "code",
   "execution_count": 24,
   "metadata": {},
   "outputs": [],
   "source": [
    "from openpiv import pyprocess\n",
    "def find_subpixel_peak_position1(corr, subpixel_method='gaussian'):\n",
    "        \"\"\"\n",
    "        Find subpixel approximation of the correlation peak.\n",
    "\n",
    "        This function returns a subpixels approximation of the correlation\n",
    "        peak by using one of the several methods available. If requested,\n",
    "        the function also returns the signal to noise ratio level evaluated\n",
    "        from the correlation map.\n",
    "\n",
    "        Parameters\n",
    "        ----------\n",
    "        corr : np.ndarray\n",
    "            the correlation map.\n",
    "\n",
    "        subpixel_method : string\n",
    "             one of the following methods to estimate subpixel location of the peak:\n",
    "             'centroid' [replaces default if correlation map is negative],\n",
    "             'gaussian' [default if correlation map is positive],\n",
    "             'parabolic'.\n",
    "\n",
    "        Returns\n",
    "        -------\n",
    "        subp_peak_position : two elements tuple\n",
    "            the fractional row and column indices for the sub-pixel\n",
    "            approximation of the correlation peak.\n",
    "        \"\"\"\n",
    "\n",
    "        # initialization\n",
    "        default_peak_position = (\n",
    "                np.floor(corr.shape[0] / 2.), np.floor(corr.shape[1] / 2.))\n",
    "        '''this calculates the default peak position (peak of the autocorrelation).\n",
    "        It is window_size/2. It needs to be subtracted to from the peak found to determin the displacment\n",
    "        '''\n",
    "        #default_peak_position = (0,0)\n",
    "\n",
    "        # the peak locations\n",
    "        (peak1_i, peak1_j), dummy = pyprocess.find_first_peak(corr)\n",
    "        '''\n",
    "        The find_first_peak function returns the coordinates of the correlation peak\n",
    "        and the value of the peak. Here only the coordinates are needed.\n",
    "        '''\n",
    "\n",
    "        try:\n",
    "            # the peak and its neighbours: left, right, down, up\n",
    "            c = corr[peak1_i,   peak1_j]\n",
    "            cl = corr[peak1_i - 1, peak1_j]\n",
    "            cr = corr[peak1_i + 1, peak1_j]\n",
    "            cd = corr[peak1_i,   peak1_j - 1]\n",
    "            cu = corr[peak1_i,   peak1_j + 1]\n",
    "\n",
    "            # gaussian fit\n",
    "            if np.any(np.array([c, cl, cr, cd, cu]) < 0) and subpixel_method == 'gaussian':\n",
    "                subpixel_method = 'centroid'\n",
    "\n",
    "            try:\n",
    "                if subpixel_method == 'centroid':\n",
    "                    subp_peak_position = (((peak1_i - 1) * cl + peak1_i * c + (peak1_i + 1) * cr) / (cl + c + cr),\n",
    "                                          ((peak1_j - 1) * cd + peak1_j * c + (peak1_j + 1) * cu) / (cd + c + cu))\n",
    "\n",
    "                elif subpixel_method == 'gaussian':\n",
    "                    subp_peak_position = (peak1_i + ((np.log(cl) - np.log(cr)) / (2 * np.log(cl) - 4 * np.log(c) + 2 * np.log(cr))),\n",
    "                                          peak1_j + ((np.log(cd) - np.log(cu)) / (2 * np.log(cd) - 4 * np.log(c) + 2 * np.log(cu))))\n",
    "\n",
    "                elif subpixel_method == 'parabolic':\n",
    "                    subp_peak_position = (peak1_i + (cl - cr) / (2 * cl - 4 * c + 2 * cr),\n",
    "                                          peak1_j + (cd - cu) / (2 * cd - 4 * c + 2 * cu))\n",
    "\n",
    "            except:\n",
    "                subp_peak_position = default_peak_position\n",
    "\n",
    "        except IndexError:\n",
    "            subp_peak_position = default_peak_position\n",
    "\n",
    "            '''This block is looking for the neighbouring pixels. The subpixelposition is calculated based one\n",
    "            the correlation values. Different methods can be choosen.\n",
    "            %%%%%%%%%%%%%%%%%%%%%%%%%%%%%%%%%%%%%%%%%%%%%%%%%%%%%%%%%%%%%%%%%%%%%%%%%%%%%%%\n",
    "            This function returns the displacement in u and v\n",
    "            '''\n",
    "        return subp_peak_position[0] - default_peak_position[0], subp_peak_position[1] - default_peak_position[1]\n",
    "    "
   ]
  },
  {
   "cell_type": "code",
   "execution_count": 25,
   "metadata": {},
   "outputs": [],
   "source": [
    "\n",
    "def find_subpixel_peak_position2(corr, subpixel_method=\"gaussian\"):\n",
    "    \"\"\"\n",
    "    Find subpixel approximation of the correlation peak.\n",
    "\n",
    "    This function returns a subpixels approximation of the correlation\n",
    "    peak by using one of the several methods available. If requested,\n",
    "    the function also returns the signal to noise ratio level evaluated\n",
    "    from the correlation map.\n",
    "\n",
    "    Parameters\n",
    "    ----------\n",
    "    corr : np.ndarray\n",
    "        the correlation map.\n",
    "\n",
    "    subpixel_method : string\n",
    "         one of the following methods to estimate subpixel location of the\n",
    "         peak:\n",
    "         'centroid' [replaces default if correlation map is negative],\n",
    "         'gaussian' [default if correlation map is positive],\n",
    "         'parabolic'.\n",
    "\n",
    "    Returns\n",
    "    -------\n",
    "    subp_peak_position : two elements tuple\n",
    "        the fractional row and column indices for the sub-pixel\n",
    "        approximation of the correlation peak.\n",
    "    \"\"\"\n",
    "\n",
    "    # initialization\n",
    "    # default_peak_position = (np.floor(corr.shape[0] / 2.),\n",
    "    # np.floor(corr.shape[1] / 2.))\n",
    "    # default_peak_position = np.array([0,0])\n",
    "    eps = 1e-7\n",
    "    subp_peak_position = (0.0, 0.0)\n",
    "\n",
    "    # check inputs\n",
    "    if subpixel_method not in (\"gaussian\", \"centroid\", \"parabolic\"):\n",
    "        raise ValueError(f\"Method not implemented {subpixel_method}\")\n",
    "\n",
    "    # the peak locations\n",
    "    (peak1_i, peak1_j), _ = find_first_peak(corr)\n",
    "\n",
    "    # import pdb; pdb.set_trace()\n",
    "\n",
    "    # the peak and its neighbours: left, right, down, up\n",
    "    # but we have to make sure that peak is not at the border\n",
    "    # @ErichZimmer noticed this bug for the small windows\n",
    "\n",
    "    if ((peak1_i == 0) | (peak1_i == corr.shape[0]-1) |\n",
    "       (peak1_j == 0) | (peak1_j == corr.shape[1]-1)):\n",
    "        return subp_peak_position\n",
    "    else:\n",
    "        corr += eps  # prevents log(0) = nan if \"gaussian\" is used (notebook)\n",
    "        c = corr[peak1_i, peak1_j]\n",
    "        cl = corr[peak1_i - 1, peak1_j]\n",
    "        cr = corr[peak1_i + 1, peak1_j]\n",
    "        cd = corr[peak1_i, peak1_j - 1]\n",
    "        cu = corr[peak1_i, peak1_j + 1]\n",
    "\n",
    "        # gaussian fit\n",
    "        if np.logical_and(np.any(np.array([c, cl, cr, cd, cu]) < 0),\n",
    "                          subpixel_method == \"gaussian\"):\n",
    "            subpixel_method = \"parabolic\"\n",
    "\n",
    "        # try:\n",
    "        if subpixel_method == \"centroid\":\n",
    "            subp_peak_position = (\n",
    "                ((peak1_i - 1) * cl + peak1_i * c + (peak1_i + 1) * cr) /\n",
    "                (cl + c + cr),\n",
    "                ((peak1_j - 1) * cd + peak1_j * c + (peak1_j + 1) * cu) /\n",
    "                (cd + c + cu),\n",
    "            )\n",
    "\n",
    "        elif subpixel_method == \"gaussian\":\n",
    "            subp_peak_position = (\n",
    "                peak1_i + ((log(cl) - log(cr)) / (2 * log(cl) - 4 * log(c) +\n",
    "                           2 * log(cr))),\n",
    "                peak1_j + ((log(cd) - log(cu)) / (2 * log(cd) - 4 * log(c) +\n",
    "                           2 * log(cu))),\n",
    "            )\n",
    "\n",
    "        elif subpixel_method == \"parabolic\":\n",
    "            subp_peak_position = (\n",
    "                peak1_i + (cl - cr) / (2 * cl - 4 * c + 2 * cr),\n",
    "                peak1_j + (cd - cu) / (2 * cd - 4 * c + 2 * cu),\n",
    "            )\n",
    "\n",
    "    #     except BaseException:\n",
    "    #         subp_peak_position = default_peak_position\n",
    "\n",
    "    #     except IndexError:\n",
    "    #         subp_peak_position = default_peak_position\n",
    "\n",
    "        return subp_peak_position\n"
   ]
  },
  {
   "cell_type": "code",
   "execution_count": 26,
   "metadata": {},
   "outputs": [],
   "source": [
    "from openpiv.tools import imread\n",
    "from openpiv.pyprocess import fft_correlate_strided_images\n",
    "from pylab import *"
   ]
  },
  {
   "cell_type": "code",
   "execution_count": 27,
   "metadata": {},
   "outputs": [],
   "source": [
    "a = imread('../data/PIVChallenge2001_A/A001_1.tif')\n",
    "b = imread('../data/PIVChallenge2001_A/A001_2.tif')"
   ]
  },
  {
   "cell_type": "code",
   "execution_count": 28,
   "metadata": {},
   "outputs": [],
   "source": [
    "a = a[:32,:32]\n",
    "b = b[:32,:32]"
   ]
  },
  {
   "cell_type": "code",
   "execution_count": 29,
   "metadata": {},
   "outputs": [
    {
     "data": {
      "text/plain": [
       "<matplotlib.image.AxesImage at 0x7f87c5e14250>"
      ]
     },
     "execution_count": 29,
     "metadata": {},
     "output_type": "execute_result"
    },
    {
     "data": {
      "image/png": "[encoded data removed]",
      "text/plain": [
       "<Figure size 432x288 with 1 Axes>"
      ]
     },
     "metadata": {
      "needs_background": "light"
     },
     "output_type": "display_data"
    }
   ],
   "source": [
    "imshow(a)"
   ]
  },
  {
   "cell_type": "code",
   "execution_count": 30,
   "metadata": {},
   "outputs": [
    {
     "data": {
      "text/plain": [
       "<matplotlib.image.AxesImage at 0x7f87c5de79a0>"
      ]
     },
     "execution_count": 30,
     "metadata": {},
     "output_type": "execute_result"
    },
    {
     "data": {
      "image/png": "[encoded data removed]",
      "text/plain": [
       "<Figure size 432x288 with 1 Axes>"
      ]
     },
     "metadata": {
      "needs_background": "light"
     },
     "output_type": "display_data"
    }
   ],
   "source": [
    "imshow(b)"
   ]
  },
  {
   "cell_type": "code",
   "execution_count": 31,
   "metadata": {},
   "outputs": [],
   "source": [
    "a = a[np.newaxis,:,:]"
   ]
  },
  {
   "cell_type": "code",
   "execution_count": 32,
   "metadata": {},
   "outputs": [],
   "source": [
    "b = b[np.newaxis,:,:]"
   ]
  },
  {
   "cell_type": "code",
   "execution_count": 33,
   "metadata": {},
   "outputs": [
    {
     "data": {
      "text/plain": [
       "array([[[166, 139, 128, ..., 170, 155, 151],\n",
       "        [120, 124, 209, ..., 135, 240, 174],\n",
       "        [151, 151, 170, ..., 128, 143, 190],\n",
       "        ...,\n",
       "        [155, 139, 120, ..., 135, 124, 104],\n",
       "        [193, 166, 139, ..., 104, 100, 124],\n",
       "        [190, 131, 104, ..., 135,  89,  85]]], dtype=uint8)"
      ]
     },
     "execution_count": 33,
     "metadata": {},
     "output_type": "execute_result"
    }
   ],
   "source": [
    "a"
   ]
  },
  {
   "cell_type": "code",
   "execution_count": 34,
   "metadata": {},
   "outputs": [],
   "source": [
    "corr = fft_correlate_strided_images(a,b)"
   ]
  },
  {
   "cell_type": "code",
   "execution_count": 35,
   "metadata": {},
   "outputs": [
    {
     "data": {
      "text/plain": [
       "<matplotlib.contour.QuadContourSet at 0x7f87c5de2250>"
      ]
     },
     "execution_count": 35,
     "metadata": {},
     "output_type": "execute_result"
    },
    {
     "data": {
      "image/png": "[encoded data removed]",
      "text/plain": [
       "<Figure size 432x288 with 1 Axes>"
      ]
     },
     "metadata": {
      "needs_background": "light"
     },
     "output_type": "display_data"
    }
   ],
   "source": [
    "contourf(corr[0,:,:])"
   ]
  },
  {
   "cell_type": "code",
   "execution_count": 41,
   "metadata": {},
   "outputs": [
    {
     "data": {
      "text/plain": [
       "(0.0020018365363085877, 0.04814832804507674)"
      ]
     },
     "execution_count": 41,
     "metadata": {},
     "output_type": "execute_result"
    }
   ],
   "source": [
    "from openpiv import pyprocess\n",
    "find_subpixel_peak_position1(corr[0,:,:])"
   ]
  },
  {
   "cell_type": "code",
   "execution_count": 43,
   "metadata": {},
   "outputs": [
    {
     "data": {
      "text/plain": [
       "(31.002001836536294, 31.04814832804508)"
      ]
     },
     "execution_count": 43,
     "metadata": {},
     "output_type": "execute_result"
    }
   ],
   "source": [
    "from openpiv.pyprocess import find_first_peak\n",
    "find_subpixel_peak_position2(corr[0,:,:])"
   ]
  },
  {
   "cell_type": "code",
   "execution_count": 46,
   "metadata": {},
   "outputs": [],
   "source": [
    "corr_shape = np.array(corr[0,:,:].shape)\n",
    "default_peak_position = np.floor(corr_shape / 2.)"
   ]
  },
  {
   "cell_type": "code",
   "execution_count": 47,
   "metadata": {},
   "outputs": [
    {
     "data": {
      "text/plain": [
       "array([31., 31.])"
      ]
     },
     "execution_count": 47,
     "metadata": {},
     "output_type": "execute_result"
    }
   ],
   "source": [
    "default_peak_position"
   ]
  },
  {
   "cell_type": "code",
   "execution_count": 48,
   "metadata": {},
   "outputs": [],
   "source": [
    "disp = find_subpixel_peak_position2(corr[0,:,:])"
   ]
  },
  {
   "cell_type": "code",
   "execution_count": 49,
   "metadata": {},
   "outputs": [
    {
     "data": {
      "text/plain": [
       "(31.002001836536294, 31.04814832804508)"
      ]
     },
     "execution_count": 49,
     "metadata": {},
     "output_type": "execute_result"
    }
   ],
   "source": [
    "disp"
   ]
  },
  {
   "cell_type": "code",
   "execution_count": 50,
   "metadata": {},
   "outputs": [],
   "source": [
    "disp -= default_peak_position"
   ]
  },
  {
   "cell_type": "code",
   "execution_count": 51,
   "metadata": {},
   "outputs": [
    {
     "data": {
      "text/plain": [
       "array([0.00200184, 0.04814833])"
      ]
     },
     "execution_count": 51,
     "metadata": {},
     "output_type": "execute_result"
    }
   ],
   "source": [
    "disp"
   ]
  },
  {
   "cell_type": "code",
   "execution_count": null,
   "metadata": {},
   "outputs": [],
   "source": []
  }
 ],
 "metadata": {
  "kernelspec": {
   "display_name": "Python [conda env:test_robustness] *",
   "language": "python",
   "name": "conda-env-test_robustness-py"
  },
  "language_info": {
   "codemirror_mode": {
    "name": "ipython",
    "version": 3
   },
   "file_extension": ".py",
   "mimetype": "text/x-python",
   "name": "python",
   "nbconvert_exporter": "python",
   "pygments_lexer": "ipython3",
   "version": "3.8.5"
  }
 },
 "nbformat": 4,
 "nbformat_minor": 4
}
