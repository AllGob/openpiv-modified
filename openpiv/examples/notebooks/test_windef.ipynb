{
 "cells": [
  {
   "cell_type": "code",
   "execution_count": 26,
   "metadata": {},
   "outputs": [],
   "source": [
    "# -*- coding: utf-8 -*-\n",
    "\"\"\"\n",
    "Created on Fri Oct  4 14:33:21 2019\n",
    "\n",
    "@author: Theo\n",
    "\"\"\"\n",
    "\n",
    "\n",
    "import numpy as np\n",
    "from numpy.fft import rfft2, irfft2\n",
    "import openpiv.windef as windef\n",
    "from skimage.util import random_noise\n",
    "from skimage import img_as_ubyte\n",
    "\n",
    "\n",
    "\n",
    "\n",
    "# this test are created only to test the displacement evaluation of the\n",
    "# function the validation methods are not tested here ant therefore\n",
    "# are disabled."
   ]
  },
  {
   "cell_type": "code",
   "execution_count": 27,
   "metadata": {},
   "outputs": [],
   "source": [
    "def create_pair(image_size=32, u=3, v=2):\n",
    "    \"\"\" creates a pair of images with a roll/shift \"\"\"\n",
    "    frame_a = np.zeros((image_size, image_size))\n",
    "    frame_a = random_noise(frame_a)\n",
    "    frame_a = img_as_ubyte(frame_a)\n",
    "    # note rolling positive vertical +2 means we create\n",
    "    # negative vertical velocity as our origin is at 0,0\n",
    "    # bottom left corner, and the image is rolled from the\n",
    "    # top left corner\n",
    "\n",
    "    frame_b = np.roll(np.roll(frame_a, u, axis=1), v, axis=0)\n",
    "    return frame_a.astype(np.int32), frame_b.astype(np.int32)\n",
    "\n",
    "\n",
    "frame_a, frame_b = create_pair(image_size=32)"
   ]
  },
  {
   "cell_type": "code",
   "execution_count": 28,
   "metadata": {},
   "outputs": [],
   "source": [
    "import matplotlib.pyplot as plt"
   ]
  },
  {
   "cell_type": "code",
   "execution_count": 29,
   "metadata": {},
   "outputs": [],
   "source": [
    "def fft_correlate(window_a, window_b):\n",
    "    \"\"\" FFT based cross correlation\n",
    "    it is a so-called linear convolution based,\n",
    "    since we increase the size of the FFT to\n",
    "    reduce the edge effects.\n",
    "\n",
    "    This should also work out of the box for rectangular windows.\n",
    "\n",
    "    Parameters\n",
    "    ----------\n",
    "    window_a : 2d np.ndarray\n",
    "        a two dimensions array for the first interrogation window,\n",
    "\n",
    "    window_b : 2d np.ndarray\n",
    "        a two dimensions array for the second interrogation window.\n",
    "\n",
    "    # from Stackoverflow:\n",
    "    from scipy import linalg\n",
    "    import numpy as np\n",
    "\n",
    "    # works for rectangular windows as well\n",
    "\n",
    "    x = [[1 , 0 , 0 , 0] , [0 , -1 , 0 , 0] , [0 , 0 , 3 , 0] ,\n",
    "        [0 , 0 , 0 , 1], [0 , 0 , 0 , 1]]\n",
    "    x = np.array(x,dtype=np.float)\n",
    "    y = [[4 , 5] , [3 , 4]]\n",
    "    y = np.array(y)\n",
    "    print (\"conv:\" ,  signal.convolve2d(x , y , 'full'))\n",
    "    s1 = np.array(x.shape)\n",
    "    s2 = np.array(y.shape)\n",
    "    size = s1 + s2 - 1\n",
    "    fsize = 2 ** np.ceil(np.log2(size)).astype(int)\n",
    "    fslice = tuple([slice(0, int(sz)) for sz in size])\n",
    "    new_x = np.fft.fft2(x , fsize)\n",
    "    new_y = np.fft.fft2(y , fsize)\n",
    "    result = np.fft.ifft2(new_x*new_y)[fslice].copy()\n",
    "    print(\"fft for my method:\" , np.array(result.real, np.int32))\n",
    "    \"\"\"\n",
    "    s1 = np.array(window_a.shape)\n",
    "    s2 = np.array(window_b.shape)\n",
    "    size = s1 + s2 - 1\n",
    "    fsize = 2 ** np.ceil(np.log2(size)).astype(int)\n",
    "    fslice = tuple([slice(0, int(sz)) for sz in size])\n",
    "    f2a = rfft2(window_a, fsize)\n",
    "    f2b = rfft2(window_b[::-1, ::-1], fsize)\n",
    "    corr = irfft2(f2a * f2b).real[fslice]\n",
    "    return corr"
   ]
  },
  {
   "cell_type": "code",
   "execution_count": 121,
   "metadata": {},
   "outputs": [],
   "source": [
    "window_a = cor_win_1[0]\n",
    "window_b = cor_win_2[0]\n",
    "s1 = np.array(window_a.shape)\n",
    "s2 = np.array(window_b.shape)\n",
    "size = s1 + s2 - 1\n",
    "fsize = 2 ** np.ceil(np.log2(size)).astype(int)\n",
    "fslice = tuple([slice(0, int(sz)) for sz in size])\n",
    "f2a = rfft2(window_a, fsize)\n",
    "f2b = rfft2(window_b[::-1, ::-1], fsize)\n",
    "corr = irfft2(f2a * f2b).real[fslice]"
   ]
  },
  {
   "cell_type": "code",
   "execution_count": 122,
   "metadata": {},
   "outputs": [
    {
     "data": {
      "text/plain": [
       "(31, 31)"
      ]
     },
     "execution_count": 122,
     "metadata": {},
     "output_type": "execute_result"
    }
   ],
   "source": [
    "corr.shape"
   ]
  },
  {
   "cell_type": "code",
   "execution_count": 159,
   "metadata": {},
   "outputs": [],
   "source": [
    "def fft_correlate_strided_images(image_a, image_b):\n",
    "    \"\"\" FFT based cross correlation\n",
    "    of two images with multiple views of np.stride_tricks()\n",
    "    \n",
    "    The 2D FFT should be applied to the last two axes (-2,-1) and the\n",
    "    zero axis is the number of the interrogation window\n",
    "\n",
    "    This should also work out of the box for rectangular windows.\n",
    "\n",
    "    Parameters\n",
    "    ----------\n",
    "    image_a : 3d np.ndarray, first dimension is the number of windows,\n",
    "        and two last dimensions are interrogation windows of the first image\n",
    "    image_b : similar\n",
    "    \"\"\"\n",
    "    s1 = np.array(image_a.shape[-2:])\n",
    "    s2 = np.array(image_b.shape[-2:])\n",
    "    size = s1 + s2 - 1\n",
    "    fsize = 2 ** np.ceil(np.log2(size)).astype(int)\n",
    "    fslice = tuple([slice(0,image_a.shape[0])] + [slice(0, int(sz)) for sz in size])\n",
    "    f2a = rfft2(image_a, fsize, axes=(-2,-1))\n",
    "    f2b = rfft2(image_b[::-1, ::-1], fsize, axes=(-2,-1))\n",
    "    corr = irfft2(f2a * f2b, axes=(-2,-1)).real[fslice]\n",
    "    return corr"
   ]
  },
  {
   "cell_type": "code",
   "execution_count": 160,
   "metadata": {},
   "outputs": [
    {
     "data": {
      "text/plain": [
       "(9, 31, 31)"
      ]
     },
     "execution_count": 160,
     "metadata": {},
     "output_type": "execute_result"
    }
   ],
   "source": [
    "fft_correlate_strided_images(cor_win_1,cor_win_2).shape"
   ]
  },
  {
   "cell_type": "code",
   "execution_count": 161,
   "metadata": {},
   "outputs": [],
   "source": [
    "corr = irfft2(f2a * f2b, axes=(-2,-1)).real"
   ]
  },
  {
   "cell_type": "code",
   "execution_count": 147,
   "metadata": {},
   "outputs": [
    {
     "data": {
      "text/plain": [
       "(slice(0, 9, None), slice(0, 31, None), slice(0, 31, None))"
      ]
     },
     "execution_count": 147,
     "metadata": {},
     "output_type": "execute_result"
    }
   ],
   "source": [
    "fslice"
   ]
  },
  {
   "cell_type": "code",
   "execution_count": 151,
   "metadata": {},
   "outputs": [
    {
     "data": {
      "text/plain": [
       "(9, 31, 31)"
      ]
     },
     "execution_count": 151,
     "metadata": {},
     "output_type": "execute_result"
    }
   ],
   "source": [
    "corr[fslice].shape"
   ]
  },
  {
   "cell_type": "code",
   "execution_count": 103,
   "metadata": {},
   "outputs": [
    {
     "data": {
      "text/plain": [
       "(slice(0, 31, None), slice(0, 31, None))"
      ]
     },
     "execution_count": 103,
     "metadata": {},
     "output_type": "execute_result"
    }
   ],
   "source": [
    "tuple([slice(0, int(sz)) for sz in size])"
   ]
  },
  {
   "cell_type": "code",
   "execution_count": 34,
   "metadata": {},
   "outputs": [
    {
     "data": {
      "text/plain": [
       "array([[ 4,  5,  0,  0,  0],\n",
       "       [ 3,  0, -5,  0,  0],\n",
       "       [ 0, -3,  7, 15,  0],\n",
       "       [ 0,  0,  9, 16,  5],\n",
       "       [ 0,  0,  0,  7,  9],\n",
       "       [ 0,  0,  0,  3,  4]], dtype=int32)"
      ]
     },
     "execution_count": 34,
     "metadata": {},
     "output_type": "execute_result"
    }
   ],
   "source": [
    "# simple test of fft_correlate\n",
    "x = [[1 , 0 , 0 , 0] , [0 , -1 , 0 , 0] , [0 , 0 , 3 , 0] ,\n",
    "    [0 , 0 , 0 , 1], [0 , 0 , 0 , 1]]\n",
    "x = np.array(x,dtype=np.float)\n",
    "y = [[4 , 5] , [3 , 4]]\n",
    "y = np.array(y)\n",
    "\n",
    "np.array(fft_correlate(x,y[::-1,::-1]),np.int32)"
   ]
  },
  {
   "cell_type": "code",
   "execution_count": 37,
   "metadata": {},
   "outputs": [
    {
     "data": {
      "text/plain": [
       "<matplotlib.image.AxesImage at 0x7f8c253ee430>"
      ]
     },
     "execution_count": 37,
     "metadata": {},
     "output_type": "execute_result"
    },
    {
     "data": {
      "image/png": "[encoded data removed]",
      "text/plain": [
       "<Figure size 432x288 with 1 Axes>"
      ]
     },
     "metadata": {
      "needs_background": "light"
     },
     "output_type": "display_data"
    }
   ],
   "source": [
    "plt.imshow(fft_correlate(frame_a,frame_b))"
   ]
  },
  {
   "cell_type": "code",
   "execution_count": 31,
   "metadata": {},
   "outputs": [
    {
     "data": {
      "text/plain": [
       "<matplotlib.image.AxesImage at 0x7f8c24fefbb0>"
      ]
     },
     "execution_count": 31,
     "metadata": {},
     "output_type": "execute_result"
    },
    {
     "data": {
      "image/png": "[encoded data removed]",
      "text/plain": [
       "<Figure size 432x288 with 1 Axes>"
      ]
     },
     "metadata": {
      "needs_background": "light"
     },
     "output_type": "display_data"
    }
   ],
   "source": [
    "plt.imshow(frame_b,cmap=plt.cm.gray)"
   ]
  },
  {
   "cell_type": "code",
   "execution_count": 73,
   "metadata": {},
   "outputs": [],
   "source": [
    "from numpy.fft import fftshift\n",
    "\n",
    "def correlation_func(cor_win_1, cor_win_2, window_size,correlation_method='circular'):\n",
    "    '''This function is doing the cross-correlation. Right now circular cross-correlation\n",
    "    That means no zero-padding is done\n",
    "    the .real is to cut off possible imaginary parts that remains due to finite numerical accuarcy\n",
    "     '''\n",
    "    if correlation_method=='linear':\n",
    "        cor_win_1 = cor_win_1-cor_win_1.mean(axis=(1,2)).reshape(cor_win_1.shape[0],1,1)\n",
    "        cor_win_2 = cor_win_2-cor_win_2.mean(axis=(1,2)).reshape(cor_win_1.shape[0],1,1)\n",
    "        cor_win_1[cor_win_1<0]=0\n",
    "        cor_win_2[cor_win_2<0]=0\n",
    "\n",
    "     \n",
    "        corr = fftshift(irfft2(np.conj(rfft2(cor_win_1,s=(2*window_size,2*window_size))) *\n",
    "                                  rfft2(cor_win_2,s=(2*window_size,2*window_size))).real, axes=(1, 2))\n",
    "        corr=corr[:,window_size//2:3*window_size//2,window_size//2:3*window_size//2]\n",
    "        \n",
    "    else:\n",
    "        corr = fftshift(irfft2(np.conj(rfft2(cor_win_1)) *\n",
    "                                  rfft2(cor_win_2)).real, axes=(1, 2))\n",
    "    return corr"
   ]
  },
  {
   "cell_type": "code",
   "execution_count": 74,
   "metadata": {},
   "outputs": [],
   "source": [
    "cor_win_1 = moving_window_array(frame_a, 16, 8)\n",
    "cor_win_2 = moving_window_array(frame_b, 16, 8)\n"
   ]
  },
  {
   "cell_type": "code",
   "execution_count": 86,
   "metadata": {},
   "outputs": [
    {
     "data": {
      "text/plain": [
       "(9, 1, 1)"
      ]
     },
     "execution_count": 86,
     "metadata": {},
     "output_type": "execute_result"
    }
   ],
   "source": [
    "cor_win_1 = cor_win_1-cor_win_1.mean(axis=(1,2)).reshape(cor_win_1.shape[0],1,1)\n",
    "cor_win_1.mean(axis=(1,2)).reshape(cor_win_1.shape[0],1,1).shape"
   ]
  },
  {
   "cell_type": "code",
   "execution_count": 95,
   "metadata": {},
   "outputs": [
    {
     "data": {
      "text/plain": [
       "(9, 32, 32)"
      ]
     },
     "execution_count": 95,
     "metadata": {},
     "output_type": "execute_result"
    }
   ],
   "source": [
    "irfft2(cor_win_1,s=(2*16,2*16)).shape"
   ]
  },
  {
   "cell_type": "code",
   "execution_count": 94,
   "metadata": {},
   "outputs": [
    {
     "data": {
      "text/plain": [
       "(3, 2, 2)"
      ]
     },
     "execution_count": 94,
     "metadata": {},
     "output_type": "execute_result"
    }
   ],
   "source": [
    "rfft2(np.ones((3,2,2)))."
   ]
  },
  {
   "cell_type": "code",
   "execution_count": 77,
   "metadata": {},
   "outputs": [
    {
     "data": {
      "text/plain": [
       "array([[[22201., 24508., 17522., ..., 21122., 13743., 20038.],\n",
       "        [18487., 20634., 23384., ..., 22332., 22692., 19664.],\n",
       "        [21396., 18939., 18812., ..., 23960., 24970., 15914.],\n",
       "        ...,\n",
       "        [20692., 18915., 22248., ..., 24017., 20605., 16914.],\n",
       "        [18813., 15736., 21303., ..., 21128., 18737., 19444.],\n",
       "        [24291., 20715., 23273., ..., 19528., 21124., 22327.]],\n",
       "\n",
       "       [[25286., 25419., 29155., ..., 24887., 21631., 20478.],\n",
       "        [28119., 26976., 26635., ..., 19033., 27100., 26646.],\n",
       "        [21193., 27510., 30132., ..., 26403., 25409., 26660.],\n",
       "        ...,\n",
       "        [28969., 28184., 22127., ..., 23705., 22425., 27567.],\n",
       "        [21315., 26679., 28738., ..., 30594., 24013., 19469.],\n",
       "        [26710., 22353., 29798., ..., 29082., 27360., 27561.]],\n",
       "\n",
       "       [[33114., 35552., 33125., ..., 39002., 28468., 33314.],\n",
       "        [36225., 30693., 28575., ..., 27460., 24882., 38320.],\n",
       "        [30875., 32408., 40616., ..., 35772., 35823., 34117.],\n",
       "        ...,\n",
       "        [34374., 27618., 28003., ..., 30348., 36555., 34025.],\n",
       "        [42075., 31868., 39260., ..., 33379., 36239., 30041.],\n",
       "        [37653., 27356., 29632., ..., 31773., 31423., 29992.]],\n",
       "\n",
       "       ...,\n",
       "\n",
       "       [[26826., 27683., 33659., ..., 31926., 26335., 35081.],\n",
       "        [31674., 31294., 25503., ..., 33852., 29277., 30966.],\n",
       "        [29485., 34164., 32587., ..., 26065., 36951., 33767.],\n",
       "        ...,\n",
       "        [27700., 31899., 33620., ..., 25848., 32651., 33273.],\n",
       "        [31467., 23511., 26259., ..., 28354., 27733., 33760.],\n",
       "        [38749., 38749., 28652., ..., 29428., 34053., 25914.]],\n",
       "\n",
       "       [[27780., 27321., 26226., ..., 33691., 27501., 25422.],\n",
       "        [17058., 21186., 25958., ..., 27457., 22406., 21415.],\n",
       "        [25136., 23375., 23556., ..., 23382., 29453., 23934.],\n",
       "        ...,\n",
       "        [30897., 35744., 31336., ..., 25040., 25139., 22745.],\n",
       "        [31733., 31756., 36043., ..., 34252., 25150., 29379.],\n",
       "        [23237., 26599., 34902., ..., 24970., 24125., 25210.]],\n",
       "\n",
       "       [[24218., 19369., 20263., ..., 18035., 20234., 20397.],\n",
       "        [22350., 23780., 23760., ..., 22431., 24952., 16862.],\n",
       "        [18974., 23464., 16753., ..., 24462., 16114., 24546.],\n",
       "        ...,\n",
       "        [27871., 20883., 21916., ..., 16139., 25371., 23454.],\n",
       "        [14754., 19965., 21986., ..., 27075., 25440., 23252.],\n",
       "        [17350., 21976., 22778., ..., 22460., 16739., 15507.]]])"
      ]
     },
     "execution_count": 77,
     "metadata": {},
     "output_type": "execute_result"
    }
   ],
   "source": [
    "correlation_func(cor_win_1,cor_win_2,16)"
   ]
  },
  {
   "cell_type": "code",
   "execution_count": 60,
   "metadata": {},
   "outputs": [],
   "source": [
    "from openpiv.pyprocess import moving_window_array, get_field_shape, get_coordinates, correlate_windows\n",
    "\n",
    "def first_pass(\n",
    "    frame_a,\n",
    "    frame_b,\n",
    "    window_size,\n",
    "    overlap,\n",
    "    iterations,\n",
    "    correlation_method=\"circular\",\n",
    "    subpixel_method=\"gaussian\",\n",
    "    do_sig2noise=False,\n",
    "    sig2noise_method=\"peak2peak\",\n",
    "    sig2noise_mask=2,\n",
    "):\n",
    "    \"\"\"\n",
    "    First pass of the PIV evaluation.\n",
    "\n",
    "    This function does the PIV evaluation of the first pass. It returns\n",
    "    the coordinates of the interrogation window centres, the displacment\n",
    "    u and v for each interrogation window as well as the mask which indicates\n",
    "    wether the displacement vector was interpolated or not.\n",
    "\n",
    "\n",
    "    Parameters\n",
    "    ----------\n",
    "    frame_a : 2d np.ndarray\n",
    "        the first image\n",
    "\n",
    "    frame_b : 2d np.ndarray\n",
    "        the second image\n",
    "\n",
    "    window_size : int\n",
    "         the size of the interrogation window\n",
    "\n",
    "    overlap : int\n",
    "        the overlap of the interrogation window, typically it is window_size/2\n",
    "\n",
    "    subpixel_method: string\n",
    "        the method used for the subpixel interpolation.\n",
    "        one of the following methods to estimate subpixel location of the peak:\n",
    "        'centroid' [replaces default if correlation map is negative],\n",
    "        'gaussian' [default if correlation map is positive],\n",
    "        'parabolic'\n",
    "\n",
    "    Returns\n",
    "    -------\n",
    "    x : 2d np.array\n",
    "        array containg the x coordinates of the interrogation window centres\n",
    "\n",
    "    y : 2d np.array\n",
    "        array containg the y coordinates of the interrogation window centres\n",
    "\n",
    "    u : 2d np.array\n",
    "        array containing the u displacement for every interrogation window\n",
    "\n",
    "    u : 2d np.array\n",
    "        array containing the u displacement for every interrogation window\n",
    "\n",
    "    \"\"\"\n",
    "\n",
    "    cor_win_1 = moving_window_array(frame_a, window_size, overlap)\n",
    "    cor_win_2 = moving_window_array(frame_b, window_size, overlap)\n",
    "    \"\"\"Filling the interrogation window. They windows are arranged\n",
    "    in a 3d array with number of interrogation window *window_size*window_size\n",
    "    this way is much faster then using a loop\"\"\"\n",
    "\n",
    "    correlation = correlate_windows(cor_win_1, cor_win_2,\n",
    "                                    correlation_method=correlation_method)\n",
    "    \"do the correlation\"\n",
    "    # create a dummy for the loop to fill\n",
    "    disp = np.zeros((np.size(correlation, 0), 2))\n",
    "    for i in range(0, np.size(correlation, 0)):\n",
    "        \"\"\" determine the displacment on subpixel level \"\"\"\n",
    "        disp[i, :] = find_subpixel_peak_position(\n",
    "            correlation[i, :, :], subpixel_method=subpixel_method\n",
    "        )\n",
    "    \"this loop is doing the displacment evaluation for each window \"\n",
    "\n",
    "    shapes = np.array(get_field_shape(frame_a.shape, window_size, overlap))\n",
    "    u = disp[:, 1].reshape(shapes)\n",
    "    v = -disp[:, 0].reshape(shapes)\n",
    "    \"reshaping the interrogation window to vector field shape\"\n",
    "\n",
    "    x, y = get_coordinates(frame_a.shape, window_size, overlap)\n",
    "    \"get coordinates for to map the displacement\"\n",
    "    if do_sig2noise is True and iterations == 1:\n",
    "        sig2noise_ratio = sig2noise_ratio_function(\n",
    "            correlation, sig2noise_method=sig2noise_method,\n",
    "            width=sig2noise_mask\n",
    "        )\n",
    "        sig2noise_ratio = sig2noise_ratio.reshape(shapes)\n",
    "    else:\n",
    "        sig2noise_ratio = np.full_like(u, np.nan)\n",
    "    return x, y, u, v, sig2noise_ratio"
   ]
  },
  {
   "cell_type": "code",
   "execution_count": 68,
   "metadata": {},
   "outputs": [
    {
     "data": {
      "text/plain": [
       "(9, 16, 16)"
      ]
     },
     "execution_count": 68,
     "metadata": {},
     "output_type": "execute_result"
    }
   ],
   "source": [
    "cor_win_1 = moving_window_array(frame_b, 16, 8)"
   ]
  },
  {
   "cell_type": "code",
   "execution_count": 61,
   "metadata": {},
   "outputs": [],
   "source": [
    "# circular cross correlation\n",
    "def test_first_pass_circ():\n",
    "    \"\"\" test of the first pass \"\"\"\n",
    "    x, y, u, v, s2n = first_pass(frame_a, frame_b,\n",
    "                                        window_size=16,\n",
    "                                        overlap=8,\n",
    "                                        iterations=1,\n",
    "                                        correlation_method='circular',\n",
    "                                        subpixel_method='gaussian',\n",
    "                                        do_sig2noise=True,\n",
    "                                        sig2noise_method='peak2peak',\n",
    "                                        sig2noise_mask=2)\n",
    "    # print u,v\n",
    "    assert(np.max(np.abs(u-3)) < 0.1)\n",
    "    assert(np.max(np.abs(v+2)) < 0.1)"
   ]
  },
  {
   "cell_type": "code",
   "execution_count": 62,
   "metadata": {},
   "outputs": [
    {
     "ename": "ValueError",
     "evalue": "Shape and axes have different lengths.",
     "output_type": "error",
     "traceback": [
      "\u001b[0;31m---------------------------------------------------------------------------\u001b[0m",
      "\u001b[0;31mValueError\u001b[0m                                Traceback (most recent call last)",
      "\u001b[0;32m<ipython-input-62-98844c7e6439>\u001b[0m in \u001b[0;36m<module>\u001b[0;34m\u001b[0m\n\u001b[0;32m----> 1\u001b[0;31m \u001b[0mtest_first_pass_circ\u001b[0m\u001b[0;34m(\u001b[0m\u001b[0;34m)\u001b[0m\u001b[0;34m\u001b[0m\u001b[0;34m\u001b[0m\u001b[0m\n\u001b[0m",
      "\u001b[0;32m<ipython-input-61-a57bd1d4d7a7>\u001b[0m in \u001b[0;36mtest_first_pass_circ\u001b[0;34m()\u001b[0m\n\u001b[1;32m      2\u001b[0m \u001b[0;32mdef\u001b[0m \u001b[0mtest_first_pass_circ\u001b[0m\u001b[0;34m(\u001b[0m\u001b[0;34m)\u001b[0m\u001b[0;34m:\u001b[0m\u001b[0;34m\u001b[0m\u001b[0;34m\u001b[0m\u001b[0m\n\u001b[1;32m      3\u001b[0m     \u001b[0;34m\"\"\" test of the first pass \"\"\"\u001b[0m\u001b[0;34m\u001b[0m\u001b[0;34m\u001b[0m\u001b[0m\n\u001b[0;32m----> 4\u001b[0;31m     x, y, u, v, s2n = first_pass(frame_a, frame_b,\n\u001b[0m\u001b[1;32m      5\u001b[0m                                         \u001b[0mwindow_size\u001b[0m\u001b[0;34m=\u001b[0m\u001b[0;36m16\u001b[0m\u001b[0;34m,\u001b[0m\u001b[0;34m\u001b[0m\u001b[0;34m\u001b[0m\u001b[0m\n\u001b[1;32m      6\u001b[0m                                         \u001b[0moverlap\u001b[0m\u001b[0;34m=\u001b[0m\u001b[0;36m8\u001b[0m\u001b[0;34m,\u001b[0m\u001b[0;34m\u001b[0m\u001b[0;34m\u001b[0m\u001b[0m\n",
      "\u001b[0;32m<ipython-input-60-699515dd5f4d>\u001b[0m in \u001b[0;36mfirst_pass\u001b[0;34m(frame_a, frame_b, window_size, overlap, iterations, correlation_method, subpixel_method, do_sig2noise, sig2noise_method, sig2noise_mask)\u001b[0m\n\u001b[1;32m     64\u001b[0m     this way is much faster then using a loop\"\"\"\n\u001b[1;32m     65\u001b[0m \u001b[0;34m\u001b[0m\u001b[0m\n\u001b[0;32m---> 66\u001b[0;31m     correlation = correlate_windows(cor_win_1, cor_win_2,\n\u001b[0m\u001b[1;32m     67\u001b[0m                                     correlation_method=correlation_method)\n\u001b[1;32m     68\u001b[0m     \u001b[0;34m\"do the correlation\"\u001b[0m\u001b[0;34m\u001b[0m\u001b[0;34m\u001b[0m\u001b[0m\n",
      "\u001b[0;32m~/Downloads/repos/openpiv-python/openpiv/pyprocess.py\u001b[0m in \u001b[0;36mcorrelate_windows\u001b[0;34m(window_a, window_b, correlation_method)\u001b[0m\n\u001b[1;32m    535\u001b[0m     \u001b[0;31m# see fft_correlate for implementation\u001b[0m\u001b[0;34m\u001b[0m\u001b[0;34m\u001b[0m\u001b[0;34m\u001b[0m\u001b[0m\n\u001b[1;32m    536\u001b[0m     \u001b[0;32mif\u001b[0m \u001b[0mcorrelation_method\u001b[0m \u001b[0;32min\u001b[0m \u001b[0;34m(\u001b[0m\u001b[0;34m\"circular\"\u001b[0m\u001b[0;34m,\u001b[0m \u001b[0;34m\"fft\"\u001b[0m\u001b[0;34m)\u001b[0m\u001b[0;34m:\u001b[0m\u001b[0;34m\u001b[0m\u001b[0;34m\u001b[0m\u001b[0m\n\u001b[0;32m--> 537\u001b[0;31m         \u001b[0mcorr\u001b[0m \u001b[0;34m=\u001b[0m \u001b[0mfft_correlate\u001b[0m\u001b[0;34m(\u001b[0m\u001b[0mwindow_a\u001b[0m\u001b[0;34m,\u001b[0m \u001b[0mwindow_b\u001b[0m\u001b[0;34m)\u001b[0m\u001b[0;34m\u001b[0m\u001b[0;34m\u001b[0m\u001b[0m\n\u001b[0m\u001b[1;32m    538\u001b[0m     \u001b[0;32melif\u001b[0m \u001b[0mcorrelation_method\u001b[0m \u001b[0;34m==\u001b[0m \u001b[0;34m\"linear\"\u001b[0m\u001b[0;34m:\u001b[0m\u001b[0;34m\u001b[0m\u001b[0;34m\u001b[0m\u001b[0m\n\u001b[1;32m    539\u001b[0m         \u001b[0;31m# save the original size:\u001b[0m\u001b[0;34m\u001b[0m\u001b[0;34m\u001b[0m\u001b[0;34m\u001b[0m\u001b[0m\n",
      "\u001b[0;32m~/Downloads/repos/openpiv-python/openpiv/pyprocess.py\u001b[0m in \u001b[0;36mfft_correlate\u001b[0;34m(window_a, window_b)\u001b[0m\n\u001b[1;32m    466\u001b[0m     \u001b[0mfsize\u001b[0m \u001b[0;34m=\u001b[0m \u001b[0;36m2\u001b[0m \u001b[0;34m**\u001b[0m \u001b[0mnp\u001b[0m\u001b[0;34m.\u001b[0m\u001b[0mceil\u001b[0m\u001b[0;34m(\u001b[0m\u001b[0mnp\u001b[0m\u001b[0;34m.\u001b[0m\u001b[0mlog2\u001b[0m\u001b[0;34m(\u001b[0m\u001b[0msize\u001b[0m\u001b[0;34m)\u001b[0m\u001b[0;34m)\u001b[0m\u001b[0;34m.\u001b[0m\u001b[0mastype\u001b[0m\u001b[0;34m(\u001b[0m\u001b[0mint\u001b[0m\u001b[0;34m)\u001b[0m\u001b[0;34m\u001b[0m\u001b[0;34m\u001b[0m\u001b[0m\n\u001b[1;32m    467\u001b[0m     \u001b[0mfslice\u001b[0m \u001b[0;34m=\u001b[0m \u001b[0mtuple\u001b[0m\u001b[0;34m(\u001b[0m\u001b[0;34m[\u001b[0m\u001b[0mslice\u001b[0m\u001b[0;34m(\u001b[0m\u001b[0;36m0\u001b[0m\u001b[0;34m,\u001b[0m \u001b[0mint\u001b[0m\u001b[0;34m(\u001b[0m\u001b[0msz\u001b[0m\u001b[0;34m)\u001b[0m\u001b[0;34m)\u001b[0m \u001b[0;32mfor\u001b[0m \u001b[0msz\u001b[0m \u001b[0;32min\u001b[0m \u001b[0msize\u001b[0m\u001b[0;34m]\u001b[0m\u001b[0;34m)\u001b[0m\u001b[0;34m\u001b[0m\u001b[0;34m\u001b[0m\u001b[0m\n\u001b[0;32m--> 468\u001b[0;31m     \u001b[0mf2a\u001b[0m \u001b[0;34m=\u001b[0m \u001b[0mrfft2\u001b[0m\u001b[0;34m(\u001b[0m\u001b[0mwindow_a\u001b[0m\u001b[0;34m,\u001b[0m \u001b[0mfsize\u001b[0m\u001b[0;34m)\u001b[0m\u001b[0;34m\u001b[0m\u001b[0;34m\u001b[0m\u001b[0m\n\u001b[0m\u001b[1;32m    469\u001b[0m     \u001b[0mf2b\u001b[0m \u001b[0;34m=\u001b[0m \u001b[0mrfft2\u001b[0m\u001b[0;34m(\u001b[0m\u001b[0mwindow_b\u001b[0m\u001b[0;34m[\u001b[0m\u001b[0;34m:\u001b[0m\u001b[0;34m:\u001b[0m\u001b[0;34m-\u001b[0m\u001b[0;36m1\u001b[0m\u001b[0;34m,\u001b[0m \u001b[0;34m:\u001b[0m\u001b[0;34m:\u001b[0m\u001b[0;34m-\u001b[0m\u001b[0;36m1\u001b[0m\u001b[0;34m]\u001b[0m\u001b[0;34m,\u001b[0m \u001b[0mfsize\u001b[0m\u001b[0;34m)\u001b[0m\u001b[0;34m\u001b[0m\u001b[0;34m\u001b[0m\u001b[0m\n\u001b[1;32m    470\u001b[0m     \u001b[0mcorr\u001b[0m \u001b[0;34m=\u001b[0m \u001b[0mirfft2\u001b[0m\u001b[0;34m(\u001b[0m\u001b[0mf2a\u001b[0m \u001b[0;34m*\u001b[0m \u001b[0mf2b\u001b[0m\u001b[0;34m)\u001b[0m\u001b[0;34m.\u001b[0m\u001b[0mreal\u001b[0m\u001b[0;34m[\u001b[0m\u001b[0mfslice\u001b[0m\u001b[0;34m]\u001b[0m\u001b[0;34m\u001b[0m\u001b[0;34m\u001b[0m\u001b[0m\n",
      "\u001b[0;32m<__array_function__ internals>\u001b[0m in \u001b[0;36mrfft2\u001b[0;34m(*args, **kwargs)\u001b[0m\n",
      "\u001b[0;32m~/miniconda3/envs/windef/lib/python3.8/site-packages/numpy/fft/_pocketfft.py\u001b[0m in \u001b[0;36mrfft2\u001b[0;34m(a, s, axes, norm)\u001b[0m\n\u001b[1;32m   1160\u001b[0m     \"\"\"\n\u001b[1;32m   1161\u001b[0m \u001b[0;34m\u001b[0m\u001b[0m\n\u001b[0;32m-> 1162\u001b[0;31m     \u001b[0;32mreturn\u001b[0m \u001b[0mrfftn\u001b[0m\u001b[0;34m(\u001b[0m\u001b[0ma\u001b[0m\u001b[0;34m,\u001b[0m \u001b[0ms\u001b[0m\u001b[0;34m,\u001b[0m \u001b[0maxes\u001b[0m\u001b[0;34m,\u001b[0m \u001b[0mnorm\u001b[0m\u001b[0;34m)\u001b[0m\u001b[0;34m\u001b[0m\u001b[0;34m\u001b[0m\u001b[0m\n\u001b[0m\u001b[1;32m   1163\u001b[0m \u001b[0;34m\u001b[0m\u001b[0m\n\u001b[1;32m   1164\u001b[0m \u001b[0;34m\u001b[0m\u001b[0m\n",
      "\u001b[0;32m<__array_function__ internals>\u001b[0m in \u001b[0;36mrfftn\u001b[0;34m(*args, **kwargs)\u001b[0m\n",
      "\u001b[0;32m~/miniconda3/envs/windef/lib/python3.8/site-packages/numpy/fft/_pocketfft.py\u001b[0m in \u001b[0;36mrfftn\u001b[0;34m(a, s, axes, norm)\u001b[0m\n\u001b[1;32m   1118\u001b[0m     \"\"\"\n\u001b[1;32m   1119\u001b[0m     \u001b[0ma\u001b[0m \u001b[0;34m=\u001b[0m \u001b[0masarray\u001b[0m\u001b[0;34m(\u001b[0m\u001b[0ma\u001b[0m\u001b[0;34m)\u001b[0m\u001b[0;34m\u001b[0m\u001b[0;34m\u001b[0m\u001b[0m\n\u001b[0;32m-> 1120\u001b[0;31m     \u001b[0ms\u001b[0m\u001b[0;34m,\u001b[0m \u001b[0maxes\u001b[0m \u001b[0;34m=\u001b[0m \u001b[0m_cook_nd_args\u001b[0m\u001b[0;34m(\u001b[0m\u001b[0ma\u001b[0m\u001b[0;34m,\u001b[0m \u001b[0ms\u001b[0m\u001b[0;34m,\u001b[0m \u001b[0maxes\u001b[0m\u001b[0;34m)\u001b[0m\u001b[0;34m\u001b[0m\u001b[0;34m\u001b[0m\u001b[0m\n\u001b[0m\u001b[1;32m   1121\u001b[0m     \u001b[0ma\u001b[0m \u001b[0;34m=\u001b[0m \u001b[0mrfft\u001b[0m\u001b[0;34m(\u001b[0m\u001b[0ma\u001b[0m\u001b[0;34m,\u001b[0m \u001b[0ms\u001b[0m\u001b[0;34m[\u001b[0m\u001b[0;34m-\u001b[0m\u001b[0;36m1\u001b[0m\u001b[0;34m]\u001b[0m\u001b[0;34m,\u001b[0m \u001b[0maxes\u001b[0m\u001b[0;34m[\u001b[0m\u001b[0;34m-\u001b[0m\u001b[0;36m1\u001b[0m\u001b[0;34m]\u001b[0m\u001b[0;34m,\u001b[0m \u001b[0mnorm\u001b[0m\u001b[0;34m)\u001b[0m\u001b[0;34m\u001b[0m\u001b[0;34m\u001b[0m\u001b[0m\n\u001b[1;32m   1122\u001b[0m     \u001b[0;32mfor\u001b[0m \u001b[0mii\u001b[0m \u001b[0;32min\u001b[0m \u001b[0mrange\u001b[0m\u001b[0;34m(\u001b[0m\u001b[0mlen\u001b[0m\u001b[0;34m(\u001b[0m\u001b[0maxes\u001b[0m\u001b[0;34m)\u001b[0m\u001b[0;34m-\u001b[0m\u001b[0;36m1\u001b[0m\u001b[0;34m)\u001b[0m\u001b[0;34m:\u001b[0m\u001b[0;34m\u001b[0m\u001b[0;34m\u001b[0m\u001b[0m\n",
      "\u001b[0;32m~/miniconda3/envs/windef/lib/python3.8/site-packages/numpy/fft/_pocketfft.py\u001b[0m in \u001b[0;36m_cook_nd_args\u001b[0;34m(a, s, axes, invreal)\u001b[0m\n\u001b[1;32m    638\u001b[0m         \u001b[0maxes\u001b[0m \u001b[0;34m=\u001b[0m \u001b[0mlist\u001b[0m\u001b[0;34m(\u001b[0m\u001b[0mrange\u001b[0m\u001b[0;34m(\u001b[0m\u001b[0;34m-\u001b[0m\u001b[0mlen\u001b[0m\u001b[0;34m(\u001b[0m\u001b[0ms\u001b[0m\u001b[0;34m)\u001b[0m\u001b[0;34m,\u001b[0m \u001b[0;36m0\u001b[0m\u001b[0;34m)\u001b[0m\u001b[0;34m)\u001b[0m\u001b[0;34m\u001b[0m\u001b[0;34m\u001b[0m\u001b[0m\n\u001b[1;32m    639\u001b[0m     \u001b[0;32mif\u001b[0m \u001b[0mlen\u001b[0m\u001b[0;34m(\u001b[0m\u001b[0ms\u001b[0m\u001b[0;34m)\u001b[0m \u001b[0;34m!=\u001b[0m \u001b[0mlen\u001b[0m\u001b[0;34m(\u001b[0m\u001b[0maxes\u001b[0m\u001b[0;34m)\u001b[0m\u001b[0;34m:\u001b[0m\u001b[0;34m\u001b[0m\u001b[0;34m\u001b[0m\u001b[0m\n\u001b[0;32m--> 640\u001b[0;31m         \u001b[0;32mraise\u001b[0m \u001b[0mValueError\u001b[0m\u001b[0;34m(\u001b[0m\u001b[0;34m\"Shape and axes have different lengths.\"\u001b[0m\u001b[0;34m)\u001b[0m\u001b[0;34m\u001b[0m\u001b[0;34m\u001b[0m\u001b[0m\n\u001b[0m\u001b[1;32m    641\u001b[0m     \u001b[0;32mif\u001b[0m \u001b[0minvreal\u001b[0m \u001b[0;32mand\u001b[0m \u001b[0mshapeless\u001b[0m\u001b[0;34m:\u001b[0m\u001b[0;34m\u001b[0m\u001b[0;34m\u001b[0m\u001b[0m\n\u001b[1;32m    642\u001b[0m         \u001b[0ms\u001b[0m\u001b[0;34m[\u001b[0m\u001b[0;34m-\u001b[0m\u001b[0;36m1\u001b[0m\u001b[0;34m]\u001b[0m \u001b[0;34m=\u001b[0m \u001b[0;34m(\u001b[0m\u001b[0ma\u001b[0m\u001b[0;34m.\u001b[0m\u001b[0mshape\u001b[0m\u001b[0;34m[\u001b[0m\u001b[0maxes\u001b[0m\u001b[0;34m[\u001b[0m\u001b[0;34m-\u001b[0m\u001b[0;36m1\u001b[0m\u001b[0;34m]\u001b[0m\u001b[0;34m]\u001b[0m \u001b[0;34m-\u001b[0m \u001b[0;36m1\u001b[0m\u001b[0;34m)\u001b[0m \u001b[0;34m*\u001b[0m \u001b[0;36m2\u001b[0m\u001b[0;34m\u001b[0m\u001b[0;34m\u001b[0m\u001b[0m\n",
      "\u001b[0;31mValueError\u001b[0m: Shape and axes have different lengths."
     ]
    }
   ],
   "source": [
    "test_first_pass_circ()"
   ]
  },
  {
   "cell_type": "code",
   "execution_count": 63,
   "metadata": {},
   "outputs": [],
   "source": [
    "def test_multi_pass_circ():\n",
    "    \"\"\" test fot the multipass \"\"\"\n",
    "    window_size = (128, 64, 32)\n",
    "    overlap = (64, 32, 16)\n",
    "    iterations = 3\n",
    "\n",
    "    x, y, u, v, s2n = windef.first_pass(frame_a, frame_b, window_size[0],\n",
    "                                        overlap[0], iterations,\n",
    "                                        correlation_method='circular',\n",
    "                                        subpixel_method='gaussian',\n",
    "                                        do_sig2noise=True,\n",
    "                                        sig2noise_method='peak2peak',\n",
    "                                        sig2noise_mask=2)\n",
    "    u_old = u.copy()\n",
    "    v_old = v.copy()\n",
    "    i = 1\n",
    "    for i in range(2, iterations+1):\n",
    "        x, y,\\\n",
    "        u, v,\\\n",
    "        s2n, mask = windef.multipass_img_deform(frame_a, frame_b,\n",
    "                                                window_size[i-1], overlap[i-1],\n",
    "                                                iterations, i, x, y, u, v,\n",
    "                                                correlation_method='circular',\n",
    "                                                subpixel_method='gaussian',\n",
    "                                                do_sig2noise=False,\n",
    "                                                sig2noise_method='peak2peak',\n",
    "                                                sig2noise_mask=2,\n",
    "                                                MinMaxU=(-100, 50),\n",
    "                                                MinMaxV=(-50, 50),\n",
    "                                                std_threshold=1000000,\n",
    "                                                median_threshold=200000,\n",
    "                                                median_size=1,\n",
    "                                                filter_method='localmean',\n",
    "                                                max_filter_iteration=10,\n",
    "                                                filter_kernel_size=2,\n",
    "                                                interpolation_order=3)\n",
    "    assert(np.max(np.abs(u-3)) < 0.1 and np.any(u != u_old))\n",
    "    assert(np.max(np.abs(v+2)) < 0.1 and np.any(v != v_old))\n",
    "    # the second condition is to check if the multipass is done.\n",
    "    # It need's a little numerical inaccuracy.\n",
    "\n",
    "\n",
    "# linear cross correlation\n",
    "def test_first_pass_lin():\n",
    "    \"\"\" test of the first pass \"\"\"\n",
    "    x, y, u, v, s2n = windef.first_pass(frame_a, frame_b, window_size=64,\n",
    "                                        overlap=32, iterations=1,\n",
    "                                        correlation_method='linear',\n",
    "                                        subpixel_method='gaussian',\n",
    "                                        do_sig2noise=True,\n",
    "                                        sig2noise_method='peak2peak',\n",
    "                                        sig2noise_mask=2)\n",
    "    # print u,v\n",
    "    assert(np.max(np.abs(u-3)) < 0.1)\n",
    "    assert(np.max(np.abs(v+2)) < 0.1)\n",
    "\n",
    "\n",
    "def test_multi_pass_lin():\n",
    "    \"\"\" test fot the multipass \"\"\"\n",
    "    window_size = (128, 64, 32)\n",
    "    overlap = (64, 32, 16)\n",
    "    iterations = 3\n",
    "\n",
    "    x, y, u, v, s2n = windef.first_pass(frame_a, frame_b, window_size[0],\n",
    "                                        overlap[0], iterations,\n",
    "                                        correlation_method='linear',\n",
    "                                        subpixel_method='gaussian',\n",
    "                                        do_sig2noise=True,\n",
    "                                        sig2noise_method='peak2peak',\n",
    "                                        sig2noise_mask=2)\n",
    "    u_old = u.copy()\n",
    "    v_old = v.copy()\n",
    "    i = 1\n",
    "    for i in range(2, iterations+1):\n",
    "        x, y,\\\n",
    "        u, v,\\\n",
    "        sn, m = windef.multipass_img_deform(frame_a, frame_b,\n",
    "                                            window_size[i-1],\n",
    "                                            overlap[i-1],\n",
    "                                            iterations, i, x, y,\n",
    "                                            u, v,\n",
    "                                            correlation_method='linear',\n",
    "                                            subpixel_method='gaussian',\n",
    "                                            do_sig2noise=False,\n",
    "                                            sig2noise_method='peak2peak',\n",
    "                                            sig2noise_mask=2,\n",
    "                                            MinMaxU=(-100, 50),\n",
    "                                            MinMaxV=(-50, 50),\n",
    "                                            std_threshold=1000000,\n",
    "                                            median_threshold=200000,\n",
    "                                            median_size=1,\n",
    "                                            filter_method='localmean',\n",
    "                                            max_filter_iteration=10,\n",
    "                                            filter_kernel_size=2,\n",
    "                                            interpolation_order=3)\n",
    "    assert(np.max(np.abs(u-3)) < 0.1 and np.any(u != u_old))\n",
    "    assert(np.max(np.abs(v+2)) < 0.1 and np.any(v != v_old))\n",
    "    # the second condition is to check if the multipass is done.\n",
    "    # It need's a little numerical inaccuracy."
   ]
  }
 ],
 "metadata": {
  "kernelspec": {
   "display_name": "Python [conda env:windef] *",
   "language": "python",
   "name": "conda-env-windef-py"
  },
  "language_info": {
   "codemirror_mode": {
    "name": "ipython",
    "version": 3
   },
   "file_extension": ".py",
   "mimetype": "text/x-python",
   "name": "python",
   "nbconvert_exporter": "python",
   "pygments_lexer": "ipython3",
   "version": "3.8.5"
  }
 },
 "nbformat": 4,
 "nbformat_minor": 4
}
