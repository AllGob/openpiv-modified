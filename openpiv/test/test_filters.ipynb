{
 "cells": [
  {
   "cell_type": "markdown",
   "metadata": {},
   "source": [
    "# Test filters on masked arrays"
   ]
  },
  {
   "cell_type": "code",
   "execution_count": 193,
   "metadata": {},
   "outputs": [],
   "source": [
    "import numpy as np\n",
    "from openpiv import filters\n",
    "from openpiv.lib import replace_nans\n",
    "from typing import Optional, Tuple"
   ]
  },
  {
   "cell_type": "code",
   "execution_count": 194,
   "metadata": {},
   "outputs": [],
   "source": [
    "def replace_outliers(\n",
    "    u: np.ndarray,\n",
    "    v: np.ndarray,\n",
    "    invalid_mask: np.ndarray,\n",
    "    grid_mask: np.ndarray,\n",
    "    w: Optional[np.ndarray]=None,\n",
    "    method: str=\"localmean\",\n",
    "    max_iter: int=5,\n",
    "    tol: float=1e-3,\n",
    "    kernel_size: int=1,\n",
    "    )-> Tuple[np.ndarray, np.ndarray,np.ndarray]:\n",
    "    \"\"\"Replace invalid vectors in an velocity field using an iterative image\n",
    "        inpainting algorithm.\n",
    "\n",
    "    The algorithm is the following:\n",
    "\n",
    "    1) For each element in the arrays of the ``u`` and ``v`` components,\n",
    "       replace it by a weighted average\n",
    "       of the neighbouring elements which are not invalid themselves. The\n",
    "       weights depends of the method type. If ``method=localmean`` weight\n",
    "       are equal to 1/( (2*kernel_size+1)**2 -1 )\n",
    "\n",
    "    2) Several iterations are needed if there are adjacent invalid elements.\n",
    "       If this is the case, inforation is \"spread\" from the edges of the\n",
    "       missing regions iteratively, until the variation is below a certain\n",
    "       threshold.\n",
    "\n",
    "    Parameters\n",
    "    ----------\n",
    "\n",
    "    u : 2d or 3d np.ndarray\n",
    "        the u velocity component field\n",
    "\n",
    "    v : 2d or 3d  np.ndarray\n",
    "        the v velocity component field\n",
    "\n",
    "    w : 2d or 3d  np.ndarray\n",
    "        the w velocity component field\n",
    "\n",
    "    max_iter : int\n",
    "        the number of iterations\n",
    "\n",
    "    kernel_size : int\n",
    "        the size of the kernel, default is 1\n",
    "\n",
    "    method : str\n",
    "        the type of kernel used for repairing missing vectors\n",
    "\n",
    "    Returns\n",
    "    -------\n",
    "    uf : 2d or 3d np.ndarray\n",
    "        the smoothed u velocity component field, where invalid vectors have\n",
    "        been replaced\n",
    "\n",
    "    vf : 2d or 3d np.ndarray\n",
    "        the smoothed v velocity component field, where invalid vectors have\n",
    "        been replaced\n",
    "\n",
    "    wf : 2d or 3d np.ndarray\n",
    "        the smoothed w velocity component field, where invalid vectors have\n",
    "        been replaced\n",
    "\n",
    "    \"\"\"\n",
    "    # we shall now replace NaNs only at invalid_mask positions,\n",
    "    # regardless the grid_mask (which is a user-provided masked region)\n",
    "\n",
    "    u[invalid_mask] = np.nan\n",
    "    v[invalid_mask] = np.nan\n",
    "    wf = np.empty_like(u)\n",
    "    \n",
    "    uf = replace_nans(\n",
    "        u, method=method, max_iter=max_iter, tol=tol,\n",
    "        kernel_size=kernel_size\n",
    "    )\n",
    "    vf = replace_nans(\n",
    "        v, method=method, max_iter=max_iter, tol=tol,\n",
    "        kernel_size=kernel_size\n",
    "    )\n",
    "\n",
    "    if isinstance(w, np.ndarray):\n",
    "        w[invalid_mask] = np.nan\n",
    "        wf = replace_nans(\n",
    "            w, method=method, max_iter=max_iter, tol=tol,\n",
    "            kernel_size=kernel_size\n",
    "        )\n",
    "\n",
    "    \n",
    "    # reinforce grid_mask\n",
    "    uf = np.ma.copy(uf, mask=grid_mask)\n",
    "    vf = np.ma.copy(vf, mask=grid_mask)\n",
    "    wf = np.ma.copy(wf, mask=grid_mask)\n",
    "\n",
    "    return uf, vf, wf"
   ]
  },
  {
   "cell_type": "code",
   "execution_count": 195,
   "metadata": {},
   "outputs": [
    {
     "data": {
      "text/plain": [
       "(masked_array(\n",
       "   data=[[1.0, 1.0, 1.0, 1.0, 1.0],\n",
       "         [1.0, nan, 1.0, 1.0, 1.0],\n",
       "         [1.0, 1.0, 1.0, 1.0, 1.0],\n",
       "         [1.0, 1.0, 1.0, --, --],\n",
       "         [1.0, 1.0, 1.0, --, --]],\n",
       "   mask=[[False, False, False, False, False],\n",
       "         [False, False, False, False, False],\n",
       "         [False, False, False, False, False],\n",
       "         [False, False, False,  True,  True],\n",
       "         [False, False, False,  True,  True]],\n",
       "   fill_value=1e+20),\n",
       " array([[False, False, False, False, False],\n",
       "        [False, False, False, False, False],\n",
       "        [False, False, False, False, False],\n",
       "        [False, False, False,  True,  True],\n",
       "        [False, False, False,  True,  True]]))"
      ]
     },
     "execution_count": 195,
     "metadata": {},
     "output_type": "execute_result"
    }
   ],
   "source": [
    "# bottom right corner is masked\n",
    "u = np.ma.copy(np.ones((5,5)))\n",
    "u[3:,3:] = np.ma.masked\n",
    "u[1,1] = np.nan\n",
    "grid_mask = u.mask.copy()\n",
    "u, grid_mask"
   ]
  },
  {
   "cell_type": "code",
   "execution_count": 196,
   "metadata": {},
   "outputs": [
    {
     "data": {
      "text/plain": [
       "masked_array(\n",
       "  data=[[1.0, 1.0, 1.0, 1.0, 1.0],\n",
       "        [1.0, 1.0, 1.0, 1.0, 1.0],\n",
       "        [1.0, 1.0, 1.0, 1.0, 1.0],\n",
       "        [1.0, 1.0, 1.0, --, --],\n",
       "        [1.0, 1.0, 1.0, --, --]],\n",
       "  mask=[[False, False, False, False, False],\n",
       "        [False, False, False, False, False],\n",
       "        [False, False, False, False, False],\n",
       "        [False, False, False,  True,  True],\n",
       "        [False, False, False,  True,  True]],\n",
       "  fill_value=1e+20)"
      ]
     },
     "execution_count": 196,
     "metadata": {},
     "output_type": "execute_result"
    }
   ],
   "source": [
    "# verify that replace_nans does not know about the mask\n",
    "replace_nans(u, 1, 1e-3) "
   ]
  },
  {
   "cell_type": "code",
   "execution_count": 197,
   "metadata": {},
   "outputs": [
    {
     "data": {
      "text/plain": [
       "(masked_array(\n",
       "   data=[[1.0, 1.0, 1.0, 1.0, 1.0],\n",
       "         [1.0, nan, 1.0, 1.0, 1.0],\n",
       "         [1.0, 1.0, 1.0, 1.0, 1.0],\n",
       "         [1.0, 1.0, 1.0, --, --],\n",
       "         [1.0, 1.0, 1.0, --, --]],\n",
       "   mask=[[False, False, False, False, False],\n",
       "         [False, False, False, False, False],\n",
       "         [False, False, False, False, False],\n",
       "         [False, False, False,  True,  True],\n",
       "         [False, False, False,  True,  True]],\n",
       "   fill_value=1e+20),\n",
       " array([[False, False, False, False, False],\n",
       "        [False, False, False, False, False],\n",
       "        [False, False, False, False, False],\n",
       "        [False, False, False,  True,  True],\n",
       "        [False, False, False,  True,  True]]))"
      ]
     },
     "execution_count": 197,
     "metadata": {},
     "output_type": "execute_result"
    }
   ],
   "source": [
    "u, grid_mask"
   ]
  },
  {
   "cell_type": "code",
   "execution_count": 198,
   "metadata": {},
   "outputs": [
    {
     "data": {
      "text/plain": [
       "(masked_array(\n",
       "   data=[[1.0, 1.0, 1.0, 1.0, 1.0],\n",
       "         [1.0, nan, 1.0, 1.0, 1.0],\n",
       "         [1.0, 1.0, 1.0, 1.0, 1.0],\n",
       "         [1.0, 1.0, 1.0, nan, --],\n",
       "         [1.0, 1.0, 1.0, --, --]],\n",
       "   mask=[[False, False, False, False, False],\n",
       "         [False, False, False, False, False],\n",
       "         [False, False, False, False, False],\n",
       "         [False, False, False, False,  True],\n",
       "         [False, False, False,  True,  True]],\n",
       "   fill_value=1e+20),\n",
       " array([[False, False, False, False, False],\n",
       "        [False, False, False, False, False],\n",
       "        [False, False, False, False, False],\n",
       "        [False, False, False,  True,  True],\n",
       "        [False, False, False,  True,  True]]))"
      ]
     },
     "execution_count": 198,
     "metadata": {},
     "output_type": "execute_result"
    }
   ],
   "source": [
    "# but if we put nan on the masked region, it \n",
    "# destroys the mask and the replace_nans also works there\n",
    "# we shall later re-enforce the mask\n",
    "u[3,3] = np.nan\n",
    "u, grid_mask"
   ]
  },
  {
   "cell_type": "code",
   "execution_count": 199,
   "metadata": {},
   "outputs": [
    {
     "data": {
      "text/plain": [
       "array([[False, False, False, False, False],\n",
       "       [False,  True, False, False, False],\n",
       "       [False, False, False, False, False],\n",
       "       [False, False, False,  True, False],\n",
       "       [False, False, False, False, False]])"
      ]
     },
     "execution_count": 199,
     "metadata": {},
     "output_type": "execute_result"
    }
   ],
   "source": [
    "invalid_mask  = np.isnan(u.data)\n",
    "invalid_mask"
   ]
  },
  {
   "cell_type": "code",
   "execution_count": 200,
   "metadata": {},
   "outputs": [
    {
     "ename": "TypeError",
     "evalue": "copy() got an unexpected keyword argument 'mask'",
     "output_type": "error",
     "traceback": [
      "\u001b[0;31m---------------------------------------------------------------------------\u001b[0m",
      "\u001b[0;31mTypeError\u001b[0m                                 Traceback (most recent call last)",
      "\u001b[1;32m/home/user/Documents/repos/openpiv-python/openpiv/test/test_filters.ipynb Cell 9\u001b[0m in \u001b[0;36m<cell line: 1>\u001b[0;34m()\u001b[0m\n\u001b[0;32m----> <a href='vscode-notebook-cell:/home/user/Documents/repos/openpiv-python/openpiv/test/test_filters.ipynb#X20sZmlsZQ%3D%3D?line=0'>1</a>\u001b[0m uf,_,_ \u001b[39m=\u001b[39m replace_outliers(u,u,invalid_mask,grid_mask)\n\u001b[1;32m      <a href='vscode-notebook-cell:/home/user/Documents/repos/openpiv-python/openpiv/test/test_filters.ipynb#X20sZmlsZQ%3D%3D?line=1'>2</a>\u001b[0m \u001b[39mprint\u001b[39m(\u001b[39mf\u001b[39m\u001b[39m'\u001b[39m\u001b[39mu \u001b[39m\u001b[39m\\n\u001b[39;00m\u001b[39m \u001b[39m\u001b[39m{\u001b[39;00mu\u001b[39m}\u001b[39;00m\u001b[39m'\u001b[39m)\n\u001b[1;32m      <a href='vscode-notebook-cell:/home/user/Documents/repos/openpiv-python/openpiv/test/test_filters.ipynb#X20sZmlsZQ%3D%3D?line=2'>3</a>\u001b[0m \u001b[39mprint\u001b[39m(\u001b[39mf\u001b[39m\u001b[39m'\u001b[39m\u001b[39muf \u001b[39m\u001b[39m\\n\u001b[39;00m\u001b[39m'\u001b[39m,uf)\n",
      "\u001b[1;32m/home/user/Documents/repos/openpiv-python/openpiv/test/test_filters.ipynb Cell 9\u001b[0m in \u001b[0;36mreplace_outliers\u001b[0;34m(u, v, invalid_mask, grid_mask, w, method, max_iter, tol, kernel_size)\u001b[0m\n\u001b[1;32m     <a href='vscode-notebook-cell:/home/user/Documents/repos/openpiv-python/openpiv/test/test_filters.ipynb#X20sZmlsZQ%3D%3D?line=84'>85</a>\u001b[0m     wf \u001b[39m=\u001b[39m np\u001b[39m.\u001b[39mempty_like(u)\n\u001b[1;32m     <a href='vscode-notebook-cell:/home/user/Documents/repos/openpiv-python/openpiv/test/test_filters.ipynb#X20sZmlsZQ%3D%3D?line=85'>86</a>\u001b[0m     \u001b[39m# return uf, vf, wf\u001b[39;00m\n\u001b[1;32m     <a href='vscode-notebook-cell:/home/user/Documents/repos/openpiv-python/openpiv/test/test_filters.ipynb#X20sZmlsZQ%3D%3D?line=86'>87</a>\u001b[0m \n\u001b[1;32m     <a href='vscode-notebook-cell:/home/user/Documents/repos/openpiv-python/openpiv/test/test_filters.ipynb#X20sZmlsZQ%3D%3D?line=87'>88</a>\u001b[0m \n\u001b[1;32m     <a href='vscode-notebook-cell:/home/user/Documents/repos/openpiv-python/openpiv/test/test_filters.ipynb#X20sZmlsZQ%3D%3D?line=88'>89</a>\u001b[0m \u001b[39m# reinforce grid_mask\u001b[39;00m\n\u001b[0;32m---> <a href='vscode-notebook-cell:/home/user/Documents/repos/openpiv-python/openpiv/test/test_filters.ipynb#X20sZmlsZQ%3D%3D?line=89'>90</a>\u001b[0m uf \u001b[39m=\u001b[39m np\u001b[39m.\u001b[39;49mma\u001b[39m.\u001b[39;49mcopy(uf, mask\u001b[39m=\u001b[39;49mgrid_mask)\n\u001b[1;32m     <a href='vscode-notebook-cell:/home/user/Documents/repos/openpiv-python/openpiv/test/test_filters.ipynb#X20sZmlsZQ%3D%3D?line=90'>91</a>\u001b[0m vf \u001b[39m=\u001b[39m np\u001b[39m.\u001b[39mma\u001b[39m.\u001b[39mcopy(vf, mask\u001b[39m=\u001b[39mgrid_mask)\n\u001b[1;32m     <a href='vscode-notebook-cell:/home/user/Documents/repos/openpiv-python/openpiv/test/test_filters.ipynb#X20sZmlsZQ%3D%3D?line=91'>92</a>\u001b[0m wf \u001b[39m=\u001b[39m np\u001b[39m.\u001b[39mma\u001b[39m.\u001b[39mcopy(wf, mask\u001b[39m=\u001b[39mgrid_mask)\n",
      "File \u001b[0;32m~/.edm/envs/echopiv/lib/python3.8/site-packages/numpy/ma/core.py:6828\u001b[0m, in \u001b[0;36m_frommethod.__call__\u001b[0;34m(self, a, *args, **params)\u001b[0m\n\u001b[1;32m   6824\u001b[0m \u001b[39mif\u001b[39;00m method \u001b[39mis\u001b[39;00m \u001b[39mNone\u001b[39;00m:\n\u001b[1;32m   6825\u001b[0m     \u001b[39m# use the corresponding np function\u001b[39;00m\n\u001b[1;32m   6826\u001b[0m     method \u001b[39m=\u001b[39m \u001b[39mgetattr\u001b[39m(np, method_name)\n\u001b[0;32m-> 6828\u001b[0m \u001b[39mreturn\u001b[39;00m method(marr, \u001b[39m*\u001b[39;49margs, \u001b[39m*\u001b[39;49m\u001b[39m*\u001b[39;49mparams)\n",
      "File \u001b[0;32m~/.edm/envs/echopiv/lib/python3.8/site-packages/numpy/ma/core.py:2578\u001b[0m, in \u001b[0;36m_arraymethod.<locals>.wrapped_method\u001b[0;34m(self, *args, **params)\u001b[0m\n\u001b[1;32m   2577\u001b[0m \u001b[39mdef\u001b[39;00m \u001b[39mwrapped_method\u001b[39m(\u001b[39mself\u001b[39m, \u001b[39m*\u001b[39margs, \u001b[39m*\u001b[39m\u001b[39m*\u001b[39mparams):\n\u001b[0;32m-> 2578\u001b[0m     result \u001b[39m=\u001b[39m \u001b[39mgetattr\u001b[39;49m(\u001b[39mself\u001b[39;49m\u001b[39m.\u001b[39;49m_data, funcname)(\u001b[39m*\u001b[39;49margs, \u001b[39m*\u001b[39;49m\u001b[39m*\u001b[39;49mparams)\n\u001b[1;32m   2579\u001b[0m     result \u001b[39m=\u001b[39m result\u001b[39m.\u001b[39mview(\u001b[39mtype\u001b[39m(\u001b[39mself\u001b[39m))\n\u001b[1;32m   2580\u001b[0m     result\u001b[39m.\u001b[39m_update_from(\u001b[39mself\u001b[39m)\n",
      "\u001b[0;31mTypeError\u001b[0m: copy() got an unexpected keyword argument 'mask'"
     ]
    }
   ],
   "source": [
    "uf,_,_ = replace_outliers(u,u,invalid_mask,grid_mask)\n",
    "print(f'u \\n {u}')\n",
    "print(f'uf \\n',uf)\n"
   ]
  }
 ],
 "metadata": {
  "kernelspec": {
   "display_name": "Python 3.8.12 ('echopiv')",
   "language": "python",
   "name": "python3"
  },
  "language_info": {
   "codemirror_mode": {
    "name": "ipython",
    "version": 3
   },
   "file_extension": ".py",
   "mimetype": "text/x-python",
   "name": "python",
   "nbconvert_exporter": "python",
   "pygments_lexer": "ipython3",
   "version": "3.8.12"
  },
  "orig_nbformat": 4,
  "vscode": {
   "interpreter": {
    "hash": "f83b0c3a4910470a1212112b1707d582432916ed4ba8aec962241a050aa18fae"
   }
  }
 },
 "nbformat": 4,
 "nbformat_minor": 2
}
