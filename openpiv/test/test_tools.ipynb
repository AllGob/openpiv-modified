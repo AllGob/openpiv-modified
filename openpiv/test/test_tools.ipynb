{
 "cells": [
  {
   "cell_type": "code",
   "execution_count": 1,
   "metadata": {
    "tags": []
   },
   "outputs": [],
   "source": [
    "# %load test_tools.py\n",
    "from openpiv.tools import imread, save, display_vector_field\n",
    "from openpiv.pyprocess import extended_search_area_piv, get_coordinates\n",
    "import pathlib\n",
    "import numpy as np\n",
    "import matplotlib.pyplot as plt\n",
    "from matplotlib.testing import compare\n",
    "\n",
    "# np.seterr(all='raise')\n"
   ]
  },
  {
   "cell_type": "code",
   "execution_count": 2,
   "metadata": {},
   "outputs": [],
   "source": [
    "# test settings.pattern_a, b\n",
    "from openpiv.windef import PIVSettings\n",
    "from openpiv.tools import Multiprocesser\n",
    "\n"
   ]
  },
  {
   "cell_type": "code",
   "execution_count": 3,
   "metadata": {},
   "outputs": [
    {
     "name": "stdout",
     "output_type": "stream",
     "text": [
      "../data/test2 2image_00.tif 2image_01.tif\n"
     ]
    },
    {
     "data": {
      "text/plain": [
       "1"
      ]
     },
     "execution_count": 3,
     "metadata": {},
     "output_type": "execute_result"
    }
   ],
   "source": [
    "\n",
    "settings = PIVSettings()\n",
    "settings.filepath_images = pathlib.Path('../data/test2/')\n",
    "settings.frame_pattern_a = '2image_00.tif'\n",
    "settings.frame_pattern_b = '2image_01.tif'\n",
    "print(settings.filepath_images,settings.frame_pattern_a, settings.frame_pattern_b)\n",
    "\n",
    "multi = Multiprocesser(settings.filepath_images, settings.frame_pattern_a, settings.frame_pattern_b)\n",
    "multi.n_files"
   ]
  },
  {
   "cell_type": "code",
   "execution_count": 4,
   "metadata": {},
   "outputs": [
    {
     "name": "stdout",
     "output_type": "stream",
     "text": [
      "../data/test2 2image_*.tif (1+2),(3+4)\n",
      "Pair: ../data/test2/2image_00.tif-../data/test2/2image_01.tif\n",
      "Pair: ../data/test2/2image_10.tif-../data/test2/2image_11.tif\n",
      "Pair: ../data/test2/2image_20.tif-../data/test2/2image_21.tif\n",
      "Pair: ../data/test2/2image_30.tif-../data/test2/2image_31.tif\n",
      "Pair: ../data/test2/2image_40.tif-../data/test2/2image_41.tif\n",
      "Pair: ../data/test2/2image_50.tif-../data/test2/2image_51.tif\n"
     ]
    }
   ],
   "source": [
    "settings.frame_pattern_a = '2image_*.tif'\n",
    "settings.frame_pattern_b = '(1+2),(3+4)'\n",
    "print(settings.filepath_images,settings.frame_pattern_a, settings.frame_pattern_b)\n",
    "\n",
    "multi = Multiprocesser(settings.filepath_images, settings.frame_pattern_a, settings.frame_pattern_b)\n",
    "\n",
    "for (a,b) in zip(multi.files_a, multi.files_b):\n",
    "    print(f\"Pair: {a}-{b}\")\n"
   ]
  },
  {
   "cell_type": "code",
   "execution_count": 5,
   "metadata": {},
   "outputs": [
    {
     "name": "stdout",
     "output_type": "stream",
     "text": [
      "../data/test2 2image_*.tif (1+2),(2+3)\n",
      "Pair: ../data/test2/2image_00.tif-../data/test2/2image_01.tif\n",
      "Pair: ../data/test2/2image_01.tif-../data/test2/2image_10.tif\n",
      "Pair: ../data/test2/2image_10.tif-../data/test2/2image_11.tif\n",
      "Pair: ../data/test2/2image_11.tif-../data/test2/2image_20.tif\n",
      "Pair: ../data/test2/2image_20.tif-../data/test2/2image_21.tif\n",
      "Pair: ../data/test2/2image_21.tif-../data/test2/2image_30.tif\n",
      "Pair: ../data/test2/2image_30.tif-../data/test2/2image_31.tif\n",
      "Pair: ../data/test2/2image_31.tif-../data/test2/2image_40.tif\n",
      "Pair: ../data/test2/2image_40.tif-../data/test2/2image_41.tif\n",
      "Pair: ../data/test2/2image_41.tif-../data/test2/2image_50.tif\n",
      "Pair: ../data/test2/2image_50.tif-../data/test2/2image_51.tif\n"
     ]
    }
   ],
   "source": [
    "settings.frame_pattern_a = '2image_*.tif'\n",
    "settings.frame_pattern_b = '(1+2),(2+3)'\n",
    "print(settings.filepath_images,settings.frame_pattern_a, settings.frame_pattern_b)\n",
    "\n",
    "multi = Multiprocesser(settings.filepath_images, settings.frame_pattern_a, settings.frame_pattern_b)\n",
    "\n",
    "for (a,b) in zip(multi.files_a, multi.files_b):\n",
    "    print(f\"Pair: {a}-{b}\")"
   ]
  },
  {
   "cell_type": "code",
   "execution_count": 6,
   "metadata": {
    "tags": []
   },
   "outputs": [
    {
     "name": "stdout",
     "output_type": "stream",
     "text": [
      "../data/test2 2image_*.tif (1+3),(2+4)\n",
      "Pair: ../data/test2/2image_00.tif-../data/test2/2image_10.tif\n",
      "Pair: ../data/test2/2image_01.tif-../data/test2/2image_11.tif\n",
      "Pair: ../data/test2/2image_10.tif-../data/test2/2image_20.tif\n",
      "Pair: ../data/test2/2image_11.tif-../data/test2/2image_21.tif\n",
      "Pair: ../data/test2/2image_20.tif-../data/test2/2image_30.tif\n",
      "Pair: ../data/test2/2image_21.tif-../data/test2/2image_31.tif\n",
      "Pair: ../data/test2/2image_30.tif-../data/test2/2image_40.tif\n",
      "Pair: ../data/test2/2image_31.tif-../data/test2/2image_41.tif\n",
      "Pair: ../data/test2/2image_40.tif-../data/test2/2image_50.tif\n",
      "Pair: ../data/test2/2image_41.tif-../data/test2/2image_51.tif\n"
     ]
    }
   ],
   "source": [
    "settings.frame_pattern_a = '2image_*.tif'\n",
    "settings.frame_pattern_b = '(1+3),(2+4)'\n",
    "print(settings.filepath_images,settings.frame_pattern_a, settings.frame_pattern_b)\n",
    "\n",
    "multi = Multiprocesser(settings.filepath_images, settings.frame_pattern_a, settings.frame_pattern_b)\n",
    "\n",
    "for (a,b) in zip(multi.files_a, multi.files_b):\n",
    "    print(f\"Pair: {a}-{b}\")"
   ]
  }
 ],
 "metadata": {
  "kernelspec": {
   "display_name": "Python 3 (ipykernel)",
   "language": "python",
   "name": "python3"
  },
  "language_info": {
   "codemirror_mode": {
    "name": "ipython",
    "version": 3
   },
   "file_extension": ".py",
   "mimetype": "text/x-python",
   "name": "python",
   "nbconvert_exporter": "python",
   "pygments_lexer": "ipython3",
   "version": "3.11.0"
  },
  "vscode": {
   "interpreter": {
    "hash": "527f8b2821ddd06ad9de53fa6852824bf4860374cd5a0b7076d3fcd9bfd7fc9a"
   }
  }
 },
 "nbformat": 4,
 "nbformat_minor": 4
}
